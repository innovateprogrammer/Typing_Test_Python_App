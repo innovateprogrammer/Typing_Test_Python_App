{
 "cells": [
  {
   "cell_type": "code",
   "execution_count": null,
   "metadata": {},
   "outputs": [],
   "source": []
  },
  {
   "cell_type": "markdown",
   "metadata": {},
   "source": [
    "# This is my first project"
   ]
  },
  {
   "cell_type": "code",
   "execution_count": null,
   "metadata": {},
   "outputs": [],
   "source": []
  },
  {
   "cell_type": "code",
   "execution_count": null,
   "metadata": {},
   "outputs": [],
   "source": [
    "\n"
   ]
  },
  {
   "cell_type": "code",
   "execution_count": null,
   "metadata": {},
   "outputs": [],
   "source": [
    "\n",
    "      "
   ]
  },
  {
   "cell_type": "code",
   "execution_count": 1,
   "metadata": {},
   "outputs": [
    {
     "name": "stdout",
     "output_type": "stream",
     "text": [
      "\u001b[0;30;47m\n",
      "Lorem Ipsum is simply dummy text of the printing \n",
      " and typesetting industry. Lorem Ipsum has been the industry's standard dummy text ever since the\n",
      " 1500s, when an unknown printer took a galley of type and scrambled it to make a type specimen \n",
      " book.\n",
      "\u001b[0;0;0m Write above text\n",
      "Lorem Ipsum is simply dummy text of thep printing and typesetting industry.Lerem Ipsumm has been the insutry's standard dummy text eer sionce the 1500's, when an unknown printer took a galery of type and scrambled it to make a type specimen book.\n",
      "Mistake Analyser : \n",
      "\n",
      "\u001b[0;32;47mLorem  \u001b[0;32;47mIpsum  \u001b[0;32;47mis  \u001b[0;32;47msimply  \u001b[0;32;47mdummy  \u001b[0;32;47mtext  \u001b[0;32;47mof  \u001b[0;31;47mthep  \u001b[0;32;47mprinting  \u001b[0;32;47mand  \u001b[0;32;47mtypesetting  \u001b[0;31;47mindustry.Lerem  \u001b[0;31;47mIpsumm  \u001b[0;32;47mhas  \u001b[0;32;47mbeen  \u001b[0;32;47mthe  \u001b[0;31;47minsutry's  \u001b[0;32;47mstandard  \u001b[0;32;47mdummy  \u001b[0;32;47mtext  \u001b[0;31;47meer  \u001b[0;31;47msionce  \u001b[0;32;47mthe  \u001b[0;31;47m1500's,  \u001b[0;32;47mwhen  \u001b[0;32;47man  \u001b[0;32;47munknown  \u001b[0;32;47mprinter  \u001b[0;32;47mtook  \u001b[0;32;47ma  \u001b[0;31;47mgalery  \u001b[0;32;47mof  \u001b[0;32;47mtype  \u001b[0;32;47mand  \u001b[0;32;47mscrambled  \u001b[0;32;47mit  \u001b[0;32;47mto  \u001b[0;32;47mmake  \u001b[0;32;47ma  \u001b[0;32;47mtype  \u001b[0;32;47mspecimen  \u001b[0;32;47mbook.  \u001b[0;0;0m\n",
      "Speed : 21 Words per minute\n",
      "\u001b[0;32;47mAccuracy =  96.39999999999999\n"
     ]
    }
   ],
   "source": [
    "from datetime import datetime\n",
    "def stopWatch(value):\n",
    "\n",
    "    valueD =(((value/365)/24)/60)\n",
    "    valueH =(valueD)*365\n",
    "    valueM = (valueH)*24\n",
    "    v=str(valueM)\n",
    "    s=\"\"\n",
    "    for d in v:\n",
    "        if(d.isdigit()==True or d==\".\"):\n",
    "            s+=d\n",
    "    f=float(s)\n",
    "    return f\n",
    "    \n",
    "\n",
    "\n",
    "mis=0\n",
    "acc=0\n",
    "print(\"\\033[0;30;47m\")\n",
    "para=\"Lorem Ipsum is simply dummy text of the printing \\n and typesetting industry. Lorem Ipsum has been the industry's standard dummy text ever since the\\n 1500s, when an unknown printer took a galley of type and scrambled it to make a type specimen \\n book.\"\n",
    "print(para)\n",
    "l=para.split()\n",
    "l1=len(para)\n",
    "print(\"\\033[0;0;0m Write above text\")\n",
    "start=datetime.now()\n",
    "\n",
    "para1=input()\n",
    "\n",
    "end=datetime.now()\n",
    "t=stopWatch(end-start)\n",
    "\n",
    "\n",
    "l2=len(para1)\n",
    "lis=para1.split()\n",
    "w=len(lis)\n",
    "speed=int(w/t)\n",
    "\n",
    "\n",
    "if(l2>l1):\n",
    "    para1=para1[:l1]\n",
    "elif(l2<l1):\n",
    "    for j in range(l2,l1):\n",
    "        para1+=\"0\"\n",
    "\n",
    "print(\"Mistake Analyser : \\n\")\n",
    "\n",
    "for x in lis:\n",
    "    if x not in l:\n",
    "        mis+=1\n",
    "        print(\"\\033[0;31;47m\",end=\"\")\n",
    "        print(x,\" \",end=\"\")\n",
    "    else:\n",
    "        print(\"\\033[0;32;47m\",end=\"\